{
  "nbformat": 4,
  "nbformat_minor": 0,
  "metadata": {
    "colab": {
      "name": "epidemic_modelling.ipynb",
      "provenance": [],
      "private_outputs": true,
      "collapsed_sections": [],
      "mount_file_id": "1XBs_pGZtUM6lc2g3nNnFXj0jyd7Abnfg",
      "authorship_tag": "ABX9TyNtWo6pA4KxyH033GhyqREX",
      "include_colab_link": true
    },
    "kernelspec": {
      "name": "python3",
      "display_name": "Python 3"
    }
  },
  "cells": [
    {
      "cell_type": "markdown",
      "metadata": {
        "id": "view-in-github",
        "colab_type": "text"
      },
      "source": [
        "<a href=\"https://colab.research.google.com/github/MeGAMIndD/Covid_19/blob/master/epidemic_modelling.ipynb\" target=\"_parent\"><img src=\"https://colab.research.google.com/assets/colab-badge.svg\" alt=\"Open In Colab\"/></a>"
      ]
    },
    {
      "cell_type": "code",
      "metadata": {
        "id": "cpXpBLDC3rEL",
        "colab_type": "code",
        "colab": {}
      },
      "source": [
        "import pandas as pd\n",
        "import numpy as np\n",
        "import matplotlib.pyplot as plt\n",
        "%matplotlib inline\n",
        "import seaborn as sns\n",
        "import plotly.express as px\n",
        "import folium\n",
        "import os\n",
        "\n",
        "import warnings\n",
        "warnings.filterwarnings('ignore')\n",
        "from urllib.request import urlopen\n",
        "\n",
        "import plotly.graph_objects as go"
      ],
      "execution_count": 0,
      "outputs": []
    },
    {
      "cell_type": "code",
      "metadata": {
        "id": "Y9m9QwPyHs1u",
        "colab_type": "code",
        "colab": {}
      },
      "source": [
        "pd.set_option('display.max_rows',20000, 'display.max_columns',100)"
      ],
      "execution_count": 0,
      "outputs": []
    },
    {
      "cell_type": "code",
      "metadata": {
        "id": "ncmPhvgXHtFR",
        "colab_type": "code",
        "colab": {}
      },
      "source": [
        "df_corona_in_india = pd.read_csv(\"/content/drive/My Drive/epidemic_modelling/covid_19_india.csv\")\n",
        "df_corona_india = pd.read_csv(\"/content/drive/My Drive/epidemic_modelling/complete.csv\")\n",
        "df_ICMR = pd.read_csv(\"/content/drive/My Drive/epidemic_modelling/ICMRTestingDetails.csv\")\n",
        "df_Individual = pd.read_csv(\"/content/drive/My Drive/epidemic_modelling/IndividualDetails.csv\")\n",
        "df_Hospital = pd.read_csv(\"/content/drive/My Drive/epidemic_modelling/HospitalBedsIndia.csv\")\n",
        "df_Age = pd.read_csv(\"/content/drive/My Drive/epidemic_modelling/AgeGroupDetails.csv\")\n",
        "df_Italy = pd.read_csv(\"/content/drive/My Drive/epidemic_modelling/covid19_italy_region.csv\")\n",
        "df_daily_US = pd.read_csv(\"/content/drive/My Drive/epidemic_modelling/us_covid19_daily.csv\")\n",
        "df_corona_in_india.head()"
      ],
      "execution_count": 0,
      "outputs": []
    },
    {
      "cell_type": "code",
      "metadata": {
        "id": "LhFuMisO4wIb",
        "colab_type": "code",
        "colab": {}
      },
      "source": [
        "#Total cases of carona in India\n",
        "df_corona_in_india['Total Cases'] = df_corona_in_india['Cured'] + df_corona_in_india['Deaths'] + df_corona_in_india['Confirmed']\n",
        "#Active cases of carona in India\n",
        "df_corona_in_india['Active Cases'] = df_corona_in_india['Total Cases'] - df_corona_in_india['Cured'] - df_corona_in_india['Deaths']\n",
        "df_corona_in_india.head()"
      ],
      "execution_count": 0,
      "outputs": []
    },
    {
      "cell_type": "code",
      "metadata": {
        "id": "SqIdy4ptPFIV",
        "colab_type": "code",
        "colab": {}
      },
      "source": [
        "#Till 8th April Cases in India\n",
        "df1= df_corona_in_india[df_corona_in_india['Date']=='08/04/20']\n",
        "fig = px.bar(df1, x='State/UnionTerritory', y='Total Cases', color='Total Cases', height=600)\n",
        "fig.update_layout(\n",
        "    title='Till 8th April Total Cases in India')\n",
        "fig.show()"
      ],
      "execution_count": 0,
      "outputs": []
    },
    {
      "cell_type": "code",
      "metadata": {
        "id": "xsC_L08BPR-7",
        "colab_type": "code",
        "colab": {}
      },
      "source": [
        "#Till 8th April Active Cases in India\n",
        "df1= df_corona_in_india[df_corona_in_india['Date']=='08/04/20']\n",
        "fig = px.bar(df1, x='State/UnionTerritory', y='Active Cases', color='Active Cases',barmode='group', height=600)\n",
        "fig.update_layout(\n",
        "    title='Till 8th April Active Cases in India')\n",
        "fig.show()"
      ],
      "execution_count": 0,
      "outputs": []
    },
    {
      "cell_type": "code",
      "metadata": {
        "id": "-EjpjiGPP20S",
        "colab_type": "code",
        "colab": {}
      },
      "source": [
        "df_corona_in_india['Date'] =pd.to_datetime(df_corona_in_india.Date,dayfirst=True)\n",
        "df_corona_in_india"
      ],
      "execution_count": 0,
      "outputs": []
    },
    {
      "cell_type": "code",
      "metadata": {
        "id": "zsxhfhYvP8VP",
        "colab_type": "code",
        "colab": {}
      },
      "source": [
        "#Daily Cases in India Datewise\n",
        "corona_data = df_corona_in_india.groupby(['Date'])['Total Cases'].sum().reset_index().sort_values('Total Cases',ascending = True)\n",
        "corona_data['Daily Cases'] = corona_data['Total Cases'].sub(corona_data['Total Cases'].shift())\n",
        "corona_data['Daily Cases'].iloc[0] = corona_data['Total Cases'].iloc[0]\n",
        "corona_data['Daily Cases'] = corona_data['Daily Cases'].astype(int)\n",
        "fig = px.bar(corona_data, y='Daily Cases', x='Date',hover_data =['Daily Cases'], color='Daily Cases', height=500)\n",
        "fig.update_layout(\n",
        "    title='Daily Cases in India Datewise')\n",
        "fig.show()"
      ],
      "execution_count": 0,
      "outputs": []
    },
    {
      "cell_type": "code",
      "metadata": {
        "id": "KLkhCbPBQJNB",
        "colab_type": "code",
        "colab": {}
      },
      "source": [
        "corona_data['Corona Growth Rate'] = corona_data['Total Cases'].pct_change().mul(100).round(2)\n",
        "#Corona Growth Rate Comparison with Previous Day\n",
        "fig = px.bar(corona_data, y='Corona Growth Rate', x='Date',hover_data =['Corona Growth Rate','Total Cases'], height=500)\n",
        "fig.update_layout(\n",
        "    title='Corona Growth Rate(in Percentage) Comparison with Previous Day')\n",
        "fig.show()"
      ],
      "execution_count": 0,
      "outputs": []
    },
    {
      "cell_type": "code",
      "metadata": {
        "id": "3awUTG9EQYXE",
        "colab_type": "code",
        "colab": {}
      },
      "source": [
        "#Moratality Rate\n",
        "corona_data = df_corona_in_india.groupby(['Date'])['Total Cases','Active Cases','Deaths'].sum().reset_index().sort_values('Date',ascending=False)\n",
        "corona_data['Mortality Rate'] = ((corona_data['Deaths']/corona_data['Total Cases'])*100)\n",
        "fig = go.Figure()\n",
        "fig.add_trace(go.Scatter(x=corona_data['Date'], y=corona_data['Mortality Rate'],\n",
        "                    mode='lines+markers',name='Cases'))\n",
        "fig.update_layout(title_text='COVID-19 Mortality Rate in INDIA',plot_bgcolor='rgb(225,230,255)')\n",
        "fig.show()"
      ],
      "execution_count": 0,
      "outputs": []
    },
    {
      "cell_type": "code",
      "metadata": {
        "id": "vTu95BxzQhp-",
        "colab_type": "code",
        "colab": {}
      },
      "source": [
        "#DAILY DEATHS IN INDIA\n",
        "corona_data = df_corona_in_india.groupby(['Date'])['Deaths'].sum().reset_index().sort_values('Deaths',ascending = True)\n",
        "corona_data['DAILY DEATHS'] = corona_data['Deaths'].sub(corona_data['Deaths'].shift())\n",
        "corona_data['DAILY DEATHS'].iloc[0] = corona_data['Deaths'].iloc[0]\n",
        "corona_data['DAILY DEATHS'] = corona_data['DAILY DEATHS'].astype(int)\n",
        "fig = px.bar(corona_data, y='DAILY DEATHS', x='Date',hover_data =['DAILY DEATHS'], color='DAILY DEATHS', height=500)\n",
        "fig.update_layout(\n",
        "    title='DAILY DEATHS IN INDIA')\n",
        "fig.show()"
      ],
      "execution_count": 0,
      "outputs": []
    },
    {
      "cell_type": "code",
      "metadata": {
        "id": "lsgUWKxaQt9g",
        "colab_type": "code",
        "colab": {}
      },
      "source": [
        "#Total Cases in India State Datewise\n",
        "corona_data = df_corona_in_india.groupby(['Date','State/UnionTerritory','Total Cases'])['Cured','Deaths','Active Cases'].sum().reset_index().sort_values('Total Cases',ascending = False)\n",
        "fig = px.bar(corona_data, y='Total Cases', x='Date',hover_data =['State/UnionTerritory','Active Cases','Deaths','Cured'], color='Total Cases',barmode='group', height=700)\n",
        "fig.update_layout(\n",
        "    title='Indian States with Current Total Corona Cases')\n",
        "fig.show()"
      ],
      "execution_count": 0,
      "outputs": []
    },
    {
      "cell_type": "code",
      "metadata": {
        "id": "TXw0TYJSQw1T",
        "colab_type": "code",
        "colab": {}
      },
      "source": [
        "df_corona_india.head()"
      ],
      "execution_count": 0,
      "outputs": []
    },
    {
      "cell_type": "code",
      "metadata": {
        "id": "ivYAK402Q1gf",
        "colab_type": "code",
        "colab": {}
      },
      "source": [
        "#Pie chart visualization of states effected by caronavirus\n",
        "fig = px.pie(df_Age, values='TotalCases', names='AgeGroup')\n",
        "fig.update_layout(\n",
        "    title='Age Group affected with COVID-19')\n",
        "fig.show()"
      ],
      "execution_count": 0,
      "outputs": []
    },
    {
      "cell_type": "code",
      "metadata": {
        "id": "05-hDgW-Q7T0",
        "colab_type": "code",
        "colab": {}
      },
      "source": [
        "#Agewise Gender affected by COVID-19(There are lot of Nan Values)\n",
        "fig = px.histogram(df_Individual.dropna(), x=\"age\",color ='gender')\n",
        "fig.update_layout(\n",
        "    title='Agewise Gender affected by COVID-19')\n",
        "fig.show()"
      ],
      "execution_count": 0,
      "outputs": []
    },
    {
      "cell_type": "code",
      "metadata": {
        "id": "jRx34OB4Q-8t",
        "colab_type": "code",
        "colab": {}
      },
      "source": [
        "#Agewise Covid-19 patients in State(There are lot of Nan Values)\n",
        "fig = px.histogram(df_Individual.dropna(), x=\"age\",color ='detected_state')\n",
        "fig.update_layout(\n",
        "    title='Agewise Covid-19 patients in State')\n",
        "fig.show()"
      ],
      "execution_count": 0,
      "outputs": []
    },
    {
      "cell_type": "code",
      "metadata": {
        "id": "_IGLR4V7RCui",
        "colab_type": "code",
        "colab": {}
      },
      "source": [
        "#Genderwise current status of COVID-19(There are lot of Nan Values)\n",
        "fig = px.histogram(df_Individual.dropna(), x=\"gender\",color ='current_status')\n",
        "fig.update_layout(\n",
        "    title='Genderwise current status of COVID-19')\n",
        "fig.show()"
      ],
      "execution_count": 0,
      "outputs": []
    },
    {
      "cell_type": "code",
      "metadata": {
        "id": "7ua_L-tsRHiP",
        "colab_type": "code",
        "colab": {}
      },
      "source": [
        "#Total Cases Datewise of Foreign Nationals\n",
        "corona_data = df_corona_india.groupby(['Date','Name of State / UT','Total Confirmed cases ( Foreign National )'])['Total Confirmed cases','Cured/Discharged/Migrated',].sum().reset_index().sort_values('Total Confirmed cases ( Foreign National )',ascending = True)\n",
        "fig = px.bar(corona_data, y='Total Confirmed cases ( Foreign National )', x='Date',hover_data =['Name of State / UT','Total Confirmed cases','Cured/Discharged/Migrated'], color='Total Confirmed cases ( Foreign National )', height=700)\n",
        "fig.update_layout(\n",
        "    title='Total Cases Datewise of Foreign Nationals')\n",
        "fig.show()"
      ],
      "execution_count": 0,
      "outputs": []
    },
    {
      "cell_type": "code",
      "metadata": {
        "id": "_jHuo833RL_D",
        "colab_type": "code",
        "colab": {}
      },
      "source": [
        "#Total Cases Datewise of Indian Nationals\n",
        "corona_data = df_corona_india.groupby(['Date','Name of State / UT','Total Confirmed cases (Indian National)'])['Total Confirmed cases','Cured/Discharged/Migrated',].sum().reset_index().sort_values('Total Confirmed cases (Indian National)',ascending = True)\n",
        "fig = px.bar(corona_data, y='Total Confirmed cases (Indian National)', x='Date',hover_data =['Name of State / UT','Total Confirmed cases','Cured/Discharged/Migrated'], color='Total Confirmed cases (Indian National)', height=700)\n",
        "fig.update_layout(\n",
        "    title='Total Cases Datewise of Indian  Nationals')\n",
        "fig.show()"
      ],
      "execution_count": 0,
      "outputs": []
    },
    {
      "cell_type": "code",
      "metadata": {
        "id": "7FK2dATaRTDq",
        "colab_type": "code",
        "colab": {}
      },
      "source": [
        "df_population_of_india = pd.read_csv(\"/content/drive/My Drive/epidemic_modelling/population_india_census2011.csv\")\n",
        "df_population_of_india"
      ],
      "execution_count": 0,
      "outputs": []
    },
    {
      "cell_type": "code",
      "metadata": {
        "id": "w-HXDpDBRe5V",
        "colab_type": "code",
        "colab": {}
      },
      "source": [
        "#Statewise Total Cases\n",
        "df_new = df1.groupby(['State/UnionTerritory','Cured','Deaths','Active Cases'])['Total Cases'].sum().reset_index().sort_values('Total Cases',ascending = False)\n",
        "df_new"
      ],
      "execution_count": 0,
      "outputs": []
    },
    {
      "cell_type": "code",
      "metadata": {
        "id": "fmvI7n35RkH2",
        "colab_type": "code",
        "colab": {}
      },
      "source": [
        "#Using Merge two join two diffrent data frames and then sorting them in ascending\n",
        "df_population_with_corona_case = df_population_of_india.merge(df_new, left_on='State / Union Territory', right_on='State/UnionTerritory')\n",
        "df_population_with_corona_case=df_population_with_corona_case.drop(labels=['State/UnionTerritory','Sno'],axis=1)\n",
        "df_population_with_corona_case=df_population_with_corona_case.sort_values('Total Cases',ascending=False)\n",
        "df_population_with_corona_case"
      ],
      "execution_count": 0,
      "outputs": []
    },
    {
      "cell_type": "code",
      "metadata": {
        "id": "EznxCky9Rqkf",
        "colab_type": "code",
        "colab": {}
      },
      "source": [
        "#Pie chart visualization of states effected by caronavirus\n",
        "fig = px.pie(df_population_with_corona_case, values='Total Cases', names='State / Union Territory')\n",
        "fig.update_layout(\n",
        "    title='Pie chart visualization of states effected by caronavirus')\n",
        "fig.show()"
      ],
      "execution_count": 0,
      "outputs": []
    },
    {
      "cell_type": "code",
      "metadata": {
        "id": "MmpBxLVdRz9e",
        "colab_type": "code",
        "colab": {}
      },
      "source": [
        "#Latitude and Longitude of Indian State\n",
        "df_with_utm = pd.read_csv(\"/content/drive/My Drive/epidemic_modelling/UTM ZONES of INDIA.csv\")\n",
        "df_with_utm"
      ],
      "execution_count": 0,
      "outputs": []
    },
    {
      "cell_type": "code",
      "metadata": {
        "id": "IniY_mhPR9If",
        "colab_type": "code",
        "colab": {}
      },
      "source": [
        "#Data of Population,Cases of Carona and UTM \n",
        "df_pop_coro_utm = df_population_with_corona_case.merge(df_with_utm , left_on='State / Union Territory', right_on='State / Union Territory')\n",
        "df_pop_coro_utm"
      ],
      "execution_count": 0,
      "outputs": []
    },
    {
      "cell_type": "code",
      "metadata": {
        "id": "Ct1H0oX-SBb3",
        "colab_type": "code",
        "colab": {}
      },
      "source": [
        "#Total Case in Indian States\n",
        "fig = go.Figure(data=[go.Scatter(\n",
        "    x=df_pop_coro_utm['State / Union Territory'][0:36],\n",
        "    y=df_pop_coro_utm['Total Cases'][0:36],\n",
        "    mode='markers',\n",
        "    marker=dict(\n",
        "        size=[100,90,80, 70, 60, 50, 40,35,35,35,35,35,35,35,35,35,35,30,28,28,25,25,20,15,15,15,15,10,10,10,10],\n",
        "        showscale=True\n",
        "        )\n",
        ")])\n",
        "fig.update_layout(\n",
        "    title='Total Case in Indian States',\n",
        "    xaxis_title=\"States\",\n",
        "    yaxis_title=\"Total Cases\",\n",
        ")\n",
        "fig.show()"
      ],
      "execution_count": 0,
      "outputs": []
    },
    {
      "cell_type": "code",
      "metadata": {
        "id": "3G10gjWwSsm6",
        "colab_type": "code",
        "colab": {}
      },
      "source": [
        "#Active Case in Indian States\n",
        "fig = go.Figure(data=[go.Scatter(\n",
        "    x=df_pop_coro_utm['State / Union Territory'][0:36],\n",
        "    y=df_pop_coro_utm['Active Cases'][0:36],\n",
        "    mode='markers',\n",
        "    marker=dict(\n",
        "        size=[100,90,80, 70, 60, 50, 40,35,35,35,35,35,35,35,35,35,35,30,28,28,25,25,20,15,15,15,15,10,10,10,10],\n",
        "        showscale=True\n",
        "        )\n",
        ")])\n",
        "fig.update_layout(\n",
        "    title='Active Case in Indian States',\n",
        "    xaxis_title=\"States\",\n",
        "    yaxis_title=\"Active Cases\",\n",
        ")\n",
        "fig.show()"
      ],
      "execution_count": 0,
      "outputs": []
    },
    {
      "cell_type": "code",
      "metadata": {
        "id": "9hPcaLguS3fy",
        "colab_type": "code",
        "colab": {}
      },
      "source": [
        "#India's Map with Statewise data of Total Cases,Deaths and Cure\n",
        "India_map = folium.Map(location=[20.5937, 78.9629],zoom_start=4.55)\n",
        "fg=folium.FeatureGroup(name=\"my map\")\n",
        "fg.add_child(folium.GeoJson(data=(open('/content/drive/My Drive/epidemic_modelling/states_of_india.json','r',encoding='utf-8-sig').read())))\n",
        "India_map.add_child(fg)\n",
        "for lat,lan,name,cured,deaths,cases in zip(df_pop_coro_utm['Latitude'],df_pop_coro_utm['Longitude'],df_pop_coro_utm['State / Union Territory'],df_pop_coro_utm['Cured'],df_pop_coro_utm['Deaths'],df_pop_coro_utm['Total Cases']):\n",
        "    if(deaths == 0):\n",
        "        folium.Marker(location=[lat,lan],popup=\"<b>State  : </b>\"+name+ \"<br> <b>Total Cases : </b> \"+str(cases)+\"<br> <b>Deaths : </b> \"+str(deaths)+\"<br> <b>Cured : </b> \"+str(cured)).add_to(India_map)\n",
        "    else:\n",
        "        folium.Marker(location=[lat,lan],popup=\"<b>State  : </b>\"+name+ \"<br> <b>Total Cases : </b> \"+str(cases)+\"<br> <b>Deaths : </b> \"+str(deaths)+\"<br> <b>Cured : </b> \"+str(cured),icon=folium.Icon(color=\"red\")).add_to(India_map)\n",
        "India_map"
      ],
      "execution_count": 0,
      "outputs": []
    },
    {
      "cell_type": "code",
      "metadata": {
        "id": "51ingnotUktM",
        "colab_type": "code",
        "colab": {}
      },
      "source": [
        "#Total Cases,Active Cases,Cured,Deaths from Corona Virus in India\n",
        "corona_data = df_corona_in_india.groupby(['Date'])['Total Cases','Active Cases','Cured','Deaths'].sum().reset_index().sort_values('Date',ascending=False)\n",
        "fig = go.Figure()\n",
        "fig.add_trace(go.Scatter(x=corona_data['Date'], y=corona_data['Total Cases'],\n",
        "                    mode='lines+markers',name='Total Cases'))\n",
        "fig.add_trace(go.Scatter(x=corona_data['Date'], y=corona_data['Active Cases'], \n",
        "                mode='lines+markers',name='Active Cases'))\n",
        "fig.add_trace(go.Scatter(x=corona_data['Date'], y=corona_data['Cured'], \n",
        "                mode='lines+markers',name='Cured'))\n",
        "fig.add_trace(go.Scatter(x=corona_data['Date'], y=corona_data['Deaths'], \n",
        "                mode='lines+markers',name='Deaths'))\n",
        "fig.update_layout(title_text='Curve Showing Different Cases from COVID-19 in India',plot_bgcolor='rgb(225,230,255)')\n",
        "fig.show()"
      ],
      "execution_count": 0,
      "outputs": []
    },
    {
      "cell_type": "markdown",
      "metadata": {
        "id": "jWu7IxB4VB0q",
        "colab_type": "text"
      },
      "source": [
        "INDIAN COUNCIL OF MEDICAL RESEARCH(ICMR) REPORT TILL 9th APRIL\n",
        "\n",
        "\n",
        "\n",
        "\n",
        "\n",
        "\n",
        "\n"
      ]
    },
    {
      "cell_type": "code",
      "metadata": {
        "id": "ImDvHQ8uVVsa",
        "colab_type": "code",
        "colab": {}
      },
      "source": [
        "#Testing till 25 March\n",
        "df_ICMR ['DateTime'] =pd.to_datetime(df_ICMR .DateTime,dayfirst=True)\n",
        "fig = go.Figure()\n",
        "fig.add_trace(go.Scatter(x=df_ICMR['DateTime'], y=df_ICMR['TotalSamplesTested'],\n",
        "                    mode='lines+markers',name='TotalSamplesTested'))\n",
        "fig.add_trace(go.Scatter(x=df_ICMR['DateTime'], y=df_ICMR['TotalIndividualsTested'], \n",
        "                mode='lines+markers',name='TotalIndividualsTested'))\n",
        "fig.add_trace(go.Scatter(x=df_ICMR['DateTime'], y=df_ICMR['TotalPositiveCases'], \n",
        "                mode='lines+markers',name='TotalPositiveCases'))\n",
        "fig.update_layout(title_text='ICMR TEST for COVID-19',plot_bgcolor='rgb(225,230,255)')\n",
        "fig.show()"
      ],
      "execution_count": 0,
      "outputs": []
    },
    {
      "cell_type": "code",
      "metadata": {
        "id": "nwPO1RhAVjhD",
        "colab_type": "code",
        "colab": {}
      },
      "source": [
        "#Current Status of Patient wrt state he/she is QUARTINE and his/her Nationality\n",
        "df_Individual = df_Individual.fillna({\n",
        "    'nationality': 'Unknown','current_status': 'Unknown'})\n",
        "df_Individual_new= df_Individual.drop(labels=['id','government_id','diagnosed_date','age','gender','detected_city','detected_district','status_change_date','notes'],axis=1)\n",
        "df_Individual_new = df_Individual.groupby(['current_status','nationality','detected_state'])['id'].count().reset_index(name='count')\n",
        "fig = px.bar(df_Individual_new, x='count', y='detected_state', orientation='h',hover_data =['current_status','nationality','detected_state'], color='current_status',height=700)\n",
        "fig.update_layout(\n",
        "    title='Current Status of Patient wrt state he/she is QUARTINE and his/her Nationality')\n",
        "fig.show()"
      ],
      "execution_count": 0,
      "outputs": []
    },
    {
      "cell_type": "markdown",
      "metadata": {
        "id": "0vO6ZesjV-qF",
        "colab_type": "text"
      },
      "source": [
        "CORONA CASES in INDIA vs ITALY"
      ]
    },
    {
      "cell_type": "code",
      "metadata": {
        "id": "eOCiul_oWALr",
        "colab_type": "code",
        "colab": {}
      },
      "source": [
        "#Total Confirmed Cases INDIA vs ITALY\n",
        "df_Italy_p = pd.read_csv(\"/content/drive/My Drive/epidemic_modelling/covid19_italy_province.csv\")\n",
        "corona_data_ITALY = df_Italy_p.groupby(['Date'])['TotalPositiveCases'].sum().reset_index().sort_values('TotalPositiveCases',ascending = True)\n",
        "\n",
        "corona_data_INDIA =df_corona_in_india.groupby(['Date'])['Confirmed'].sum().reset_index().sort_values('Date',ascending = True)\n",
        "\n",
        "fig = go.Figure()\n",
        "fig.add_trace(go.Scatter(x=corona_data_ITALY['Date'], y=corona_data_ITALY['TotalPositiveCases'],\n",
        "                    mode='lines+markers',name='Italy'))\n",
        "fig.add_trace(go.Scatter(x=corona_data_INDIA['Date'], y=corona_data_INDIA['Confirmed'],\n",
        "                    mode='lines+markers',name='India'))\n",
        "fig.update_layout(title_text='Total Confirmed Cases INDIA vs ITALY',plot_bgcolor='rgb(225,230,255)')\n",
        "fig.show()"
      ],
      "execution_count": 0,
      "outputs": []
    },
    {
      "cell_type": "code",
      "metadata": {
        "id": "j7SEfFO0WVTS",
        "colab_type": "code",
        "colab": {}
      },
      "source": [
        "#COVID-19 Recovered Cases in INDIA Vs ITALY\n",
        "df_Italy_r = pd.read_csv(\"/content/drive/My Drive/epidemic_modelling/covid19_italy_region.csv\")\n",
        "df_Italy_r['Total Cases'] = df_Italy_r['HospitalizedPatients']+df_Italy_r['IntensiveCarePatients'] + df_Italy_r['TotalHospitalizedPatients'] + df_Italy_r['HomeConfinement'] + df_Italy_r['CurrentPositiveCases'] + df_Italy_r['NewPositiveCases'] + df_Italy_r['Recovered'] + df_Italy_r['Deaths'] + df_Italy_r['TotalPositiveCases']\n",
        "corona_data_ITALY = df_Italy_r.groupby(['Date'])['Recovered'].sum().reset_index().sort_values('Date',ascending = True)\n",
        "df_corona_in_india['Date'] =pd.to_datetime(df_corona_in_india.Date,dayfirst=True)\n",
        "corona_data_INDIA =df_corona_in_india.groupby(['Date'])['Cured'].sum().reset_index().sort_values('Date',ascending = True)\n",
        "fig = go.Figure()\n",
        "fig.add_trace(go.Scatter(x=corona_data_ITALY['Date'], y=corona_data_ITALY['Recovered'],\n",
        "                    mode='lines+markers',name='Italy'))\n",
        "fig.add_trace(go.Scatter(x=corona_data_INDIA['Date'], y=corona_data_INDIA['Cured'],\n",
        "                    mode='lines+markers',name='India'))\n",
        "fig.update_layout(title_text='COVID-19 Recovered Cases in INDIA Vs ITALY',plot_bgcolor='rgb(225,230,255)')\n",
        "fig.show()"
      ],
      "execution_count": 0,
      "outputs": []
    },
    {
      "cell_type": "code",
      "metadata": {
        "id": "BRqOgpBcWssC",
        "colab_type": "code",
        "colab": {}
      },
      "source": [
        "#COVID-19 Death Cases in ITALY VS INDIA\n",
        "df_Italy_r = pd.read_csv(\"/content/drive/My Drive/epidemic_modelling/covid19_italy_region.csv\")\n",
        "df_Italy_r['Total Cases'] = df_Italy_r['HospitalizedPatients']+df_Italy_r['IntensiveCarePatients'] + df_Italy_r['TotalHospitalizedPatients'] + df_Italy_r['HomeConfinement'] + df_Italy_r['CurrentPositiveCases'] + df_Italy_r['NewPositiveCases'] + df_Italy_r['Recovered'] + df_Italy_r['Deaths'] + df_Italy_r['TotalPositiveCases']\n",
        "corona_data_ITALY = df_Italy_r.groupby(['Date'])['Deaths'].sum().reset_index().sort_values('Date',ascending = True)\n",
        "df_corona_in_india['Date'] =pd.to_datetime(df_corona_in_india.Date,dayfirst=True)\n",
        "corona_data_INDIA =df_corona_in_india.groupby(['Date'])['Deaths'].sum().reset_index().sort_values('Date',ascending = True)\n",
        "fig = go.Figure()\n",
        "fig.add_trace(go.Scatter(x=corona_data_ITALY['Date'], y=corona_data_ITALY['Deaths'],\n",
        "                    mode='lines+markers',name='Italy'))\n",
        "fig.add_trace(go.Scatter(x=corona_data_INDIA['Date'], y=corona_data_INDIA['Deaths'],\n",
        "                    mode='lines+markers',name='India'))\n",
        "fig.update_layout(title_text='COVID-19 Death Cases in INDIA Vs ITALY',plot_bgcolor='rgb(225,230,255)')\n",
        "fig.show()"
      ],
      "execution_count": 0,
      "outputs": []
    },
    {
      "cell_type": "code",
      "metadata": {
        "id": "-qO1iHJUW0WN",
        "colab_type": "code",
        "colab": {}
      },
      "source": [
        "#Daily Deaths in Italy\n",
        "oarona_data = df_Italy_r.groupby(['Date'])['Deaths'].sum().reset_index().sort_values('Deaths',ascending = True)\n",
        "corona_data['Daily Deaths'] = corona_data['Deaths'].sub(corona_data['Deaths'].shift())\n",
        "corona_data['Daily Deaths'].iloc[0] = corona_data['Deaths'].iloc[0]\n",
        "corona_data['Daily Deaths'] = corona_data['Daily Deaths'].astype(int)\n",
        "fig = px.bar(corona_data, y='Daily Deaths', x='Date',hover_data =['Daily Deaths'], color='Daily Deaths', height=500)\n",
        "fig.update_layout(\n",
        "    title='DAILY DEATHS IN ITALY')\n",
        "fig.show()"
      ],
      "execution_count": 0,
      "outputs": []
    },
    {
      "cell_type": "markdown",
      "metadata": {
        "id": "w7it1r8aW_qJ",
        "colab_type": "text"
      },
      "source": [
        "CORONA CASES in INDIA vs USA"
      ]
    },
    {
      "cell_type": "code",
      "metadata": {
        "id": "ep7FFpSTXBce",
        "colab_type": "code",
        "colab": {}
      },
      "source": [
        "#Total Corona Cases INDIA vs USA\n",
        "corona_data_INDIA =df_corona_in_india.groupby(['Date'])['Total Cases'].sum().reset_index().sort_values('Date',ascending = True)\n",
        "corona_data_USA= df_daily_US.groupby(['dateChecked'])['positive'].sum().reset_index().sort_values('dateChecked',ascending = True)\n",
        "fig = go.Figure()\n",
        "\n",
        "fig.add_trace(go.Scatter(x=corona_data_USA['dateChecked'], y=corona_data_USA['positive'],\n",
        "                    mode='lines+markers',name='USA'))\n",
        "\n",
        "fig.add_trace(go.Scatter(x=corona_data_INDIA['Date'], y=corona_data_INDIA['Total Cases'],\n",
        "                    mode='lines+markers',name='India'))\n",
        "\n",
        "fig.update_layout(title_text='Total Corona Cases INDIA vs USA',plot_bgcolor='rgb(225,230,255)')\n",
        "fig.show()"
      ],
      "execution_count": 0,
      "outputs": []
    },
    {
      "cell_type": "code",
      "metadata": {
        "id": "YUoqRjYtXNKg",
        "colab_type": "code",
        "colab": {}
      },
      "source": [
        "#COVID-19 Recovered Cases in INDIA vs USA\n",
        "corona_data_INDIA =df_corona_in_india.groupby(['Date'])['Cured'].sum().reset_index().sort_values('Date',ascending = True)\n",
        "corona_data_USA= df_daily_US.groupby(['dateChecked'])['recovered'].sum().reset_index().sort_values('dateChecked',ascending = True)\n",
        "fig = go.Figure()\n",
        "\n",
        "fig.add_trace(go.Scatter(x=corona_data_USA['dateChecked'], y=corona_data_USA['recovered'],\n",
        "                    mode='lines+markers',name='USA'))\n",
        "\n",
        "fig.add_trace(go.Scatter(x=corona_data_INDIA['Date'], y=corona_data_INDIA['Cured'],\n",
        "                    mode='lines+markers',name='India'))\n",
        "\n",
        "fig.update_layout(title_text='COVID-19 Recovered Cases in INDIA vs USA',plot_bgcolor='rgb(225,230,255)')\n",
        "fig.show()"
      ],
      "execution_count": 0,
      "outputs": []
    },
    {
      "cell_type": "code",
      "metadata": {
        "id": "h05AHfxiXPi6",
        "colab_type": "code",
        "colab": {}
      },
      "source": [
        "#COVID-19 Death Cases in INDIA vs USA\n",
        "corona_data_INDIA =df_corona_in_india.groupby(['Date'])['Deaths'].sum().reset_index().sort_values('Date',ascending = True)\n",
        "corona_data_USA= df_daily_US.groupby(['dateChecked'])['death'].sum().reset_index().sort_values('dateChecked',ascending = True)\n",
        "fig = go.Figure()\n",
        "\n",
        "fig.add_trace(go.Scatter(x=corona_data_USA['dateChecked'], y=corona_data_USA['death'],\n",
        "                    mode='lines+markers',name='USA'))\n",
        "\n",
        "fig.add_trace(go.Scatter(x=corona_data_INDIA['Date'], y=corona_data_INDIA['Deaths'],\n",
        "                    mode='lines+markers',name='India'))\n",
        "\n",
        "fig.update_layout(title_text='COVID-19 Death Cases in INDIA vs USA',plot_bgcolor='rgb(225,230,255)')\n",
        "fig.show()"
      ],
      "execution_count": 0,
      "outputs": []
    },
    {
      "cell_type": "code",
      "metadata": {
        "id": "ML7Cq920XZnC",
        "colab_type": "code",
        "colab": {}
      },
      "source": [
        "#DAILY DEATHS IN USA\n",
        "corona_data = df_daily_US.groupby(['dateChecked'])['death'].sum().reset_index().sort_values('death',ascending = True)\n",
        "corona_data['DAILY DEATHS'] = corona_data['death'].sub(corona_data['death'].shift())\n",
        "corona_data['DAILY DEATHS'].iloc[0] = corona_data['death'].iloc[0]\n",
        "corona_data['DAILY DEATHS'] = corona_data['DAILY DEATHS'].astype(int)\n",
        "fig = px.bar(corona_data, y='DAILY DEATHS', x='dateChecked',hover_data =['DAILY DEATHS'], color='DAILY DEATHS', height=500)\n",
        "fig.update_layout(\n",
        "    title='DAILY DEATHS IN USA')\n",
        "fig.show()"
      ],
      "execution_count": 0,
      "outputs": []
    },
    {
      "cell_type": "code",
      "metadata": {
        "id": "NCNwf0cvXlRM",
        "colab_type": "code",
        "colab": {}
      },
      "source": [
        "#Total Confirmed Cases ITALY vs USA\n",
        "df_Italy_p = pd.read_csv(\"/content/drive/My Drive/epidemic_modelling/covid19_italy_province.csv\")\n",
        "corona_data_ITALY = df_Italy_p.groupby(['Date'])['TotalPositiveCases'].sum().reset_index().sort_values('TotalPositiveCases',ascending = True)\n",
        "\n",
        "#carona_data_INDIA =df_carona_in_india.groupby(['Date'])['Confirmed'].sum().reset_index().sort_values('Date',ascending = True)\n",
        "corona_data_USA= df_daily_US.groupby(['dateChecked'])['positive'].sum().reset_index().sort_values('dateChecked',ascending = True)\n",
        "fig = go.Figure()\n",
        "fig.add_trace(go.Scatter(x=corona_data_ITALY['Date'], y=corona_data_ITALY['TotalPositiveCases'],\n",
        "                    mode='lines+markers',name='Italy'))\n",
        "fig.add_trace(go.Scatter(x=corona_data_USA['dateChecked'], y=corona_data_USA['positive'],\n",
        "                    mode='lines+markers',name='usa'))\n",
        "fig.update_layout(title_text='Total Confirmed Cases ITALY vs USA',plot_bgcolor='rgb(225,230,255)')\n",
        "fig.show()"
      ],
      "execution_count": 0,
      "outputs": []
    },
    {
      "cell_type": "code",
      "metadata": {
        "id": "fCzjvBZWZ6Wg",
        "colab_type": "code",
        "colab": {}
      },
      "source": [
        "#COVID-19 Recovered Cases in ITALY VS USA\n",
        "\n",
        "corona_data_USA= df_daily_US.groupby(['dateChecked'])['recovered'].sum().reset_index().sort_values('dateChecked',ascending = True)\n",
        "corona_data_ITALY = df_Italy_r.groupby(['Date'])['Recovered'].sum().reset_index().sort_values('Date',ascending = True)\n",
        "fig = go.Figure()\n",
        "\n",
        "fig.add_trace(go.Scatter(x=corona_data_USA['dateChecked'], y=corona_data_USA['recovered'],\n",
        "                    mode='lines+markers',name='USA'))\n",
        "\n",
        "\n",
        "fig.add_trace(go.Scatter(x=corona_data_ITALY['Date'], y=corona_data_ITALY['Recovered'],\n",
        "                   mode='lines+markers',name='ITALY'))\n",
        "\n",
        "fig.update_layout(title_text='COVID-19 Recovered Cases in USA VS ITALY',plot_bgcolor='rgb(225,230,255)')\n",
        "fig.show()"
      ],
      "execution_count": 0,
      "outputs": []
    },
    {
      "cell_type": "code",
      "metadata": {
        "id": "hmQZAMKUcTUi",
        "colab_type": "code",
        "colab": {}
      },
      "source": [
        "#COVID-19 Death Cases in ITALY VS USA\n",
        "\n",
        "\n",
        "corona_data_ITALY = df_Italy_r.groupby(['Date'])['Deaths'].sum().reset_index().sort_values('Date',ascending = True)\n",
        "corona_data_USA= df_daily_US.groupby(['dateChecked'])['death'].sum().reset_index().sort_values('dateChecked',ascending = True)\n",
        "fig = go.Figure()\n",
        "fig.add_trace(go.Scatter(x=corona_data_ITALY['Date'], y=corona_data_ITALY['Deaths'],\n",
        "                    mode='lines+markers',name='Italy'))\n",
        "\n",
        "fig.add_trace(go.Scatter(x=corona_data_USA['dateChecked'], y=corona_data_USA['death'],\n",
        "                    mode='lines+markers',name='USA'))\n",
        "fig.update_layout(title_text='COVID-19 Death Cases in ITALY VS USA',plot_bgcolor='rgb(225,230,255)')\n",
        "fig.show()"
      ],
      "execution_count": 0,
      "outputs": []
    },
    {
      "cell_type": "code",
      "metadata": {
        "id": "ZauHdsUv9X5H",
        "colab_type": "code",
        "colab": {}
      },
      "source": [
        "corona_data_INDIA =df_corona_in_india.groupby(['Date'])['Deaths'].sum().reset_index().sort_values('Date',ascending = True)\n",
        "corona_data_ITALY = df_Italy_r.groupby(['Date'])['Deaths'].sum().reset_index().sort_values('Date',ascending = True)\n",
        "corona_data_USA= df_daily_US.groupby(['dateChecked'])['death'].sum().reset_index().sort_values('dateChecked',ascending = True)\n",
        "fig = go.Figure()\n",
        "fig.add_trace(go.Scatter(x=corona_data_ITALY['Date'], y=corona_data_ITALY['Deaths'],\n",
        "                    mode='lines+markers',name='Italy'))\n",
        "\n",
        "fig.add_trace(go.Scatter(x=corona_data_USA['dateChecked'], y=corona_data_USA['death'],\n",
        "                    mode='lines+markers',name='USA'))\n",
        "fig.add_trace(go.Scatter(x=corona_data_INDIA['Date'], y=corona_data_INDIA['Deaths'],\n",
        "                    mode='lines+markers',name='India'))\n",
        "fig.update_layout(title_text='COVID-19 Death Cases in ITALY VS USA',plot_bgcolor='rgb(225,230,255)')\n",
        "fig.show()\n"
      ],
      "execution_count": 0,
      "outputs": []
    }
  ]
}